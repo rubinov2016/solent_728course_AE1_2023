{
 "cells": [
  {
   "cell_type": "code",
   "execution_count": 25,
   "id": "initial_id",
   "metadata": {
    "collapsed": true,
    "ExecuteTime": {
     "end_time": "2023-11-08T00:00:21.912892900Z",
     "start_time": "2023-11-08T00:00:20.114540100Z"
    }
   },
   "outputs": [
    {
     "name": "stdout",
     "output_type": "stream",
     "text": [
      "--------------------------------------------------\n",
      "Operation started: Reading data from athlete_events.csv...\n",
      "\n",
      "[years]    List unique years\n",
      "[tally]    Tally up medals\n",
      "[ctally]   Tally up medals for each team\n",
      "[exit]     Exit the program\n",
      "| Gold      | 10   |\n",
      "| Silver    | 5    |\n",
      "| Bronze    | 2    |\n",
      "United Kingdom\n",
      "\tGold: 10, \tSilver: 5, \tBronze: 2, \n",
      "Denmark/Sweden\n",
      "\tGold: 6, \tSilver: 0, \tBronze: 0, \n",
      "\n",
      "Operation completed.\n",
      "--------------------------------------------------\n"
     ]
    }
   ],
   "source": [
    "import csv\n",
    "def started(msg=\"\"):\n",
    "    dash = '-' * 50 \n",
    "    print(dash)\n",
    "    print(f\"Operation started: {msg}...\\n\")\n",
    "\n",
    "def completed():\n",
    "    dash = '-' * 50\n",
    "    print()\n",
    "    print(f\"Operation completed.\")\n",
    "    print(dash)\n",
    "    \n",
    "    \n",
    "def menu():\n",
    "    msg_list = [[\"[years]\",\"List unique years\"],\n",
    "           [\"[tally]\",\"Tally up medals\"],\n",
    "           [\"[ctally]\",\"Tally up medals for each team\"],\n",
    "           [\"[exit]\",\"Exit the program\"]]\n",
    "    for msg in msg_list:\n",
    "        print(f\"{msg[0]:<10} {msg[1]}\")\n",
    "    menu_choice = input(\"Your selection:\")\n",
    "    return menu_choice\n",
    "\n",
    "def error(msg):\n",
    "    print(f\"Error! {msg}\")\n",
    "\n",
    "def display_medal_tally (tally):\n",
    "    for medal, count in tally.items():\n",
    "        print(f\"| {medal:<10}| {count:<5}|\")\n",
    "\n",
    "def display_team_medal_tally(team_tally):\n",
    "    for country, medals in team_tally.items():\n",
    "        print(country)\n",
    "        for medal, count in medals.items():\n",
    "            print(f\"\\t{medal}: {count}\", end=\", \")\n",
    "        print()\n",
    "        # print(print_medals)\n",
    "    \n",
    "\n",
    "       \n",
    "if __name__ == \"__main__\":\n",
    "    started('Reading data from athlete_events.csv')\n",
    "    choice = menu()\n",
    "    display_medal_tally({\"Gold\": 10, \"Silver\": 5, \"Bronze\": 2})\n",
    "    display_team_medal_tally({\"United Kingdom\": {\"Gold\": 10, \"Silver\": 5, \"Bronze\": 2},\"Denmark/Sweden\": {\"Gold\":6, \"Silver\":0, \"Bronze\":0}})\n",
    "    #if choice \n",
    "    completed()"
   ]
  },
  {
   "cell_type": "code",
   "execution_count": null,
   "outputs": [],
   "source": [],
   "metadata": {
    "collapsed": false
   },
   "id": "e0c63d81a8135db7"
  }
 ],
 "metadata": {
  "kernelspec": {
   "display_name": "Python 3",
   "language": "python",
   "name": "python3"
  },
  "language_info": {
   "codemirror_mode": {
    "name": "ipython",
    "version": 2
   },
   "file_extension": ".py",
   "mimetype": "text/x-python",
   "name": "python",
   "nbconvert_exporter": "python",
   "pygments_lexer": "ipython2",
   "version": "2.7.6"
  }
 },
 "nbformat": 4,
 "nbformat_minor": 5
}
