{
 "cells": [
  {
   "cell_type": "code",
   "execution_count": 3,
   "id": "initial_id",
   "metadata": {
    "collapsed": true,
    "ExecuteTime": {
     "end_time": "2023-11-04T13:24:28.973238100Z",
     "start_time": "2023-11-04T13:24:28.961208100Z"
    }
   },
   "outputs": [
    {
     "name": "stdout",
     "output_type": "stream",
     "text": [
      "--------------------------------------------------\n",
      "Operation started: Reading data from athlete_events.csv...\n",
      "\n",
      "\n",
      "Operation completed.\n",
      "--------------------------------------------------\n"
     ]
    }
   ],
   "source": [
    "import csv\n",
    "def started(msg=\"\"):\n",
    "    dash = '-' * 50 \n",
    "    print(dash)\n",
    "    print(f\"Operation started: {msg}...\\n\")\n",
    "\n",
    "def completed():\n",
    "    dash = '-' * 50\n",
    "    print()\n",
    "    print(f\"Operation completed.\")\n",
    "    print(dash)\n",
    "    \n",
    "if __name__ == \"__main__\":\n",
    "    started('Reading data from athlete_events.csv')\n",
    "    completed()"
   ]
  },
  {
   "cell_type": "code",
   "execution_count": null,
   "outputs": [],
   "source": [],
   "metadata": {
    "collapsed": false
   },
   "id": "e0c63d81a8135db7"
  }
 ],
 "metadata": {
  "kernelspec": {
   "display_name": "Python 3",
   "language": "python",
   "name": "python3"
  },
  "language_info": {
   "codemirror_mode": {
    "name": "ipython",
    "version": 2
   },
   "file_extension": ".py",
   "mimetype": "text/x-python",
   "name": "python",
   "nbconvert_exporter": "python",
   "pygments_lexer": "ipython2",
   "version": "2.7.6"
  }
 },
 "nbformat": 4,
 "nbformat_minor": 5
}
