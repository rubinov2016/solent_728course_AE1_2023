{
 "cells": [
  {
   "cell_type": "code",
   "execution_count": 1,
   "id": "initial_id",
   "metadata": {
    "collapsed": true,
    "ExecuteTime": {
     "end_time": "2023-11-04T13:32:05.553659900Z",
     "start_time": "2023-11-04T13:32:04.577450100Z"
    }
   },
   "outputs": [
    {
     "ename": "ModuleNotFoundError",
     "evalue": "No module named 'process'",
     "output_type": "error",
     "traceback": [
      "\u001B[1;31m---------------------------------------------------------------------------\u001B[0m",
      "\u001B[1;31mModuleNotFoundError\u001B[0m                       Traceback (most recent call last)",
      "Cell \u001B[1;32mIn[1], line 2\u001B[0m\n\u001B[0;32m      1\u001B[0m \u001B[38;5;28;01mimport\u001B[39;00m \u001B[38;5;21;01mcsv\u001B[39;00m\n\u001B[1;32m----> 2\u001B[0m \u001B[38;5;28;01mimport\u001B[39;00m \u001B[38;5;21;01mprocess\u001B[39;00m\n\u001B[0;32m      3\u001B[0m \u001B[38;5;28;01mimport\u001B[39;00m \u001B[38;5;21;01mtui\u001B[39;00m\n\u001B[0;32m      6\u001B[0m \u001B[38;5;28;01mdef\u001B[39;00m \u001B[38;5;21mread_data\u001B[39m(file_path):\n",
      "\u001B[1;31mModuleNotFoundError\u001B[0m: No module named 'process'"
     ]
    }
   ],
   "source": [
    "import csv\n",
    "import process\n",
    "import tui\n",
    "\n",
    "\n",
    "def read_data(file_path):\n",
    "    pass\n",
    "\n",
    "\n",
    "def run():\n",
    "    athlete_data = read_data(\"athlete_events.csv\")\n",
    "\n",
    "    while True:\n",
    "        selection = tui.menu()\n",
    "        if selection == \"years\":\n",
    "            pass\n",
    "        elif selection == \"tally\":\n",
    "            pass\n",
    "        elif selection == \"team\":\n",
    "            pass\n",
    "        elif selection == \"exit\":\n",
    "            break\n",
    "        else:\n",
    "            tui.error(\"Invalid Selection!\")\n",
    "\n",
    "if __name__ == \"__main__\":\n",
    "    run()"
   ]
  },
  {
   "cell_type": "code",
   "execution_count": null,
   "outputs": [],
   "source": [],
   "metadata": {
    "collapsed": false
   },
   "id": "b01ba5dd2c31458f"
  }
 ],
 "metadata": {
  "kernelspec": {
   "display_name": "Python 3",
   "language": "python",
   "name": "python3"
  },
  "language_info": {
   "codemirror_mode": {
    "name": "ipython",
    "version": 2
   },
   "file_extension": ".py",
   "mimetype": "text/x-python",
   "name": "python",
   "nbconvert_exporter": "python",
   "pygments_lexer": "ipython2",
   "version": "2.7.6"
  }
 },
 "nbformat": 4,
 "nbformat_minor": 5
}
