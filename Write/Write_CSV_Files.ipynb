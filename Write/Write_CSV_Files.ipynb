{
 "cells": [
  {
   "cell_type": "markdown",
   "source": [
    "Activity: export"
   ],
   "metadata": {
    "collapsed": false
   },
   "id": "b87b5f2c6169f9a4"
  },
  {
   "cell_type": "code",
   "execution_count": 1,
   "outputs": [],
   "source": [
    "file_name = \"sample.csv\"\n",
    "with open(file_name, \"w\") as file:\n",
    "    #Write the following sample data to the file: Sample Song,Sample Artist,Sample Category,Sample Year using write method\n",
    "    # write user input in a format of csv - use commas to separate values\n",
    "    file.write(f\"Sample Song,Sample Artist,Sample Category,Sample Year\\n\")\n",
    "    "
   ],
   "metadata": {
    "collapsed": false,
    "ExecuteTime": {
     "end_time": "2023-11-03T13:24:33.005323500Z",
     "start_time": "2023-11-03T13:24:33.000321700Z"
    }
   },
   "id": "d18b15a2186d0c96"
  },
  {
   "cell_type": "markdown",
   "source": [
    "Activity: append"
   ],
   "metadata": {
    "collapsed": false
   },
   "id": "c758e61e3ca3b795"
  },
  {
   "cell_type": "code",
   "execution_count": 2,
   "outputs": [],
   "source": [
    "file_name = \"sample.csv\"\n",
    "try:\n",
    "    with open(file_name, \"a\") as file:\n",
    "        file.write(\"My Song,Unknown Artist,pop,2021\\n\")\n",
    "except IOError:\n",
    "    print(\"Cannot write to the file\")        \n",
    "        \n",
    "    "
   ],
   "metadata": {
    "collapsed": false,
    "ExecuteTime": {
     "end_time": "2023-11-03T13:43:49.868141Z",
     "start_time": "2023-11-03T13:43:49.839973400Z"
    }
   },
   "id": "aa7504ca91e4579a"
  },
  {
   "cell_type": "markdown",
   "source": [
    "Activity: user_entry"
   ],
   "metadata": {
    "collapsed": false
   },
   "id": "dcb5ccc16005ea67"
  },
  {
   "cell_type": "code",
   "execution_count": 4,
   "outputs": [],
   "source": [
    "file_name = \"user_entries.csv\"\n",
    "try:\n",
    "    with open(file_name, \"w\") as file:\n",
    "        file.write(\"Year,Artist,Song Title\\n\")\n",
    "        for i in range(3):\n",
    "            title = input(\"Please enter the song title: \")\n",
    "            artist = input(\"Please enter the artist name: \")\n",
    "            year = input(\"Please enter the year: \")\n",
    "            \n",
    "            # write user input in a format of csv - use commas to seperate values\n",
    "            file.write(f\"{year}, {artist}, {title}\\n\")\n",
    "except IOError:\n",
    "    print(\"Cannot write to the file\") "
   ],
   "metadata": {
    "collapsed": false,
    "ExecuteTime": {
     "end_time": "2023-11-03T14:07:19.991711Z",
     "start_time": "2023-11-03T14:06:22.568277100Z"
    }
   },
   "id": "652e4c3e95a15df5"
  },
  {
   "cell_type": "markdown",
   "source": [],
   "metadata": {
    "collapsed": false
   },
   "id": "84a222a531cd1ebf"
  }
 ],
 "metadata": {
  "kernelspec": {
   "display_name": "Python 3",
   "language": "python",
   "name": "python3"
  },
  "language_info": {
   "codemirror_mode": {
    "name": "ipython",
    "version": 2
   },
   "file_extension": ".py",
   "mimetype": "text/x-python",
   "name": "python",
   "nbconvert_exporter": "python",
   "pygments_lexer": "ipython2",
   "version": "2.7.6"
  }
 },
 "nbformat": 4,
 "nbformat_minor": 5
}
