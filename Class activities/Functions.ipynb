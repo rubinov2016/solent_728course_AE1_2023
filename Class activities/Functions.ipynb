{
 "cells": [
  {
   "cell_type": "markdown",
   "source": [
    "Activity: ascii_code"
   ],
   "metadata": {
    "collapsed": false
   },
   "id": "358c5ee40da1ca2"
  },
  {
   "cell_type": "code",
   "execution_count": 2,
   "outputs": [
    {
     "name": "stdout",
     "output_type": "stream",
     "text": [
      "Program Started!\n",
      "The ASCII code for t is 116.\n",
      "Program Ended!\n"
     ]
    }
   ],
   "source": [
    "print(\"Program Started!\")\n",
    "char = input(\"Please enter a standard character:\")\n",
    "if len(char) == 1:\n",
    "    print(f\"The ASCII code for {char} is {ord(char)}.\")\n",
    "else:\n",
    "    print(\"Wrong input, please input one character\")\n",
    "print(\"Program Ended!\")\n",
    "        "
   ],
   "metadata": {
    "collapsed": false,
    "ExecuteTime": {
     "end_time": "2023-11-03T19:31:46.897457600Z",
     "start_time": "2023-11-03T19:31:43.910150600Z"
    }
   },
   "id": "3d5a412651f24ce2"
  },
  {
   "cell_type": "markdown",
   "source": [
    "Activity: ascii_character"
   ],
   "metadata": {
    "collapsed": false
   },
   "id": "76be0e8d4d6fc2b8"
  },
  {
   "cell_type": "code",
   "execution_count": 8,
   "outputs": [
    {
     "name": "stdout",
     "output_type": "stream",
     "text": [
      "Program Started!\n",
      "The character represented by the ASCII code 126 is ~.\n",
      "Program Ended!\n"
     ]
    }
   ],
   "source": [
    "print(\"Program Started!\")\n",
    "code = abs(int(input(\"Please enter an ASCII code:\")))\n",
    "if code in range(32,127):\n",
    "    print(f\"The character represented by the ASCII code {code} is {chr(code)}.\")\n",
    "else:\n",
    "    print(\"Wrong input, please input number from 32 to 126\")\n",
    "print(\"Program Ended!\")    "
   ],
   "metadata": {
    "collapsed": false,
    "ExecuteTime": {
     "end_time": "2023-11-03T19:36:56.643600600Z",
     "start_time": "2023-11-03T19:36:53.757351900Z"
    }
   },
   "id": "1c13714a00a1015a"
  },
  {
   "cell_type": "markdown",
   "source": [],
   "metadata": {
    "collapsed": false
   },
   "id": "4df421822db48ce0"
  },
  {
   "cell_type": "code",
   "execution_count": null,
   "outputs": [],
   "source": [],
   "metadata": {
    "collapsed": false
   },
   "id": "6fe8601fa8665c62"
  }
 ],
 "metadata": {
  "kernelspec": {
   "display_name": "Python 3",
   "language": "python",
   "name": "python3"
  },
  "language_info": {
   "codemirror_mode": {
    "name": "ipython",
    "version": 2
   },
   "file_extension": ".py",
   "mimetype": "text/x-python",
   "name": "python",
   "nbconvert_exporter": "python",
   "pygments_lexer": "ipython2",
   "version": "2.7.6"
  }
 },
 "nbformat": 4,
 "nbformat_minor": 5
}
