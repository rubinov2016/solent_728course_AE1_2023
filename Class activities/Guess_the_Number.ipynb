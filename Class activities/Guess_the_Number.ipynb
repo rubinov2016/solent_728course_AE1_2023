{
 "cells": [
  {
   "cell_type": "markdown",
   "source": [
    "Activity: guess_the_number"
   ],
   "metadata": {
    "collapsed": false
   },
   "id": "c53115943d609d11"
  },
  {
   "cell_type": "code",
   "execution_count": 2,
   "outputs": [
    {
     "name": "stdout",
     "output_type": "stream",
     "text": [
      "I am thinking of a number between 10 and 11. Can you guess what it is?\n",
      "Your guess is too high.\n",
      "Try again:\n",
      "Congratulations! You guessed my number!\n"
     ]
    }
   ],
   "source": [
    "import random\n",
    "def play_guess_the_number ():\n",
    "    min_value = int(input(\"Please enter the minimum value:\"))\n",
    "    max_value = int(input(\"Please enter the maximum value:\"))\n",
    "    rnd = random.randint(min_value,max_value)\n",
    "    print(f\"I am thinking of a number between {min_value} and {max_value}. Can you guess what it is?\")\n",
    "    guess = min_value - 1\n",
    "    while rnd != guess:\n",
    "        guess = int(input(\"Enter your guess: \"))\n",
    "        if rnd > guess:\n",
    "            print (\"Your guess is too low.\")\n",
    "        else:\n",
    "            print(\"Your guess is too high.\")\n",
    "        print(\"Try again:\")\n",
    "    print(\"Congratulations! You guessed my number!\")\n",
    "\n",
    "if __name__ == \"__main__\": \n",
    "    play_guess_the_number()    \n",
    "    "
   ],
   "metadata": {
    "collapsed": false,
    "ExecuteTime": {
     "end_time": "2023-11-03T21:18:50.591306300Z",
     "start_time": "2023-11-03T21:18:41.251644200Z"
    }
   },
   "id": "df541d9eeac35345"
  },
  {
   "cell_type": "markdown",
   "source": [],
   "metadata": {
    "collapsed": false
   },
   "id": "8b82d453a519256b"
  }
 ],
 "metadata": {
  "kernelspec": {
   "display_name": "Python 3",
   "language": "python",
   "name": "python3"
  },
  "language_info": {
   "codemirror_mode": {
    "name": "ipython",
    "version": 2
   },
   "file_extension": ".py",
   "mimetype": "text/x-python",
   "name": "python",
   "nbconvert_exporter": "python",
   "pygments_lexer": "ipython2",
   "version": "2.7.6"
  }
 },
 "nbformat": 4,
 "nbformat_minor": 5
}
