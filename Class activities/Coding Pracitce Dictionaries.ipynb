{
 "cells": [
  {
   "cell_type": "markdown",
   "id": "61b0de2c",
   "metadata": {},
   "source": [
    "Activity: simple_dict"
   ]
  },
  {
   "cell_type": "code",
   "execution_count": 4,
   "id": "4ae15f39",
   "metadata": {},
   "outputs": [
    {
     "name": "stdout",
     "output_type": "stream",
     "text": [
      "{'Short Sequence': 3, 'Medium Sequence': 2, 'Long Sequence': 1}\n"
     ]
    }
   ],
   "source": [
    "def pattern ():\n",
    "    sequences ={}\n",
    "    sequences = {\"Short Sequence\":3, \"Medium Sequence\":2, \"Long Sequence\":1}\n",
    "    return sequences\n",
    "\n",
    "def run():\n",
    "    sequences = pattern ()\n",
    "    print (sequences)\n",
    "    \n",
    "if __name__ == \"__main__\":\n",
    "    run()\n",
    "\n",
    "    "
   ]
  },
  {
   "cell_type": "markdown",
   "id": "738bc7af",
   "metadata": {},
   "source": [
    "Activity: iterate_dict"
   ]
  },
  {
   "cell_type": "code",
   "execution_count": 10,
   "id": "4b3e68d0",
   "metadata": {},
   "outputs": [
    {
     "name": "stdout",
     "output_type": "stream",
     "text": [
      "Dictionary:\n",
      "{'Short Sequence': 3, 'Medium Sequence': 2, 'Long Sequence': 1}\n",
      "\n",
      "Keys:\n",
      "Short Sequence\n",
      "Medium Sequence\n",
      "Long Sequence\n",
      "\n",
      "Values:\n",
      "3\n",
      "2\n",
      "1\n",
      "\n"
     ]
    }
   ],
   "source": [
    "def display_keys(data_list):\n",
    "    print(\"Keys:\")\n",
    "    for key in data_list.keys():\n",
    "        print(f\"{key}\")\n",
    "    print()\n",
    "    \n",
    "def display_values(data_list):\n",
    "    print(\"Values:\")\n",
    "    for value in data_list.values():\n",
    "        print(f\"{value}\")\n",
    "    print()\n",
    "    \n",
    "def display_items(data_list):\n",
    "    print (\"Dictionary:\")\n",
    "    print(data_list)\n",
    "    print()\n",
    "    \n",
    "if __name__ == \"__main__\":\n",
    "    data_list = {'Short Sequence': 3, 'Medium Sequence': 2, 'Long Sequence': 1}\n",
    "    display_items(data_list)\n",
    "    display_keys(data_list)\n",
    "    display_values(data_list)"
   ]
  },
  {
   "cell_type": "code",
   "execution_count": null,
   "id": "38d05eb1",
   "metadata": {},
   "outputs": [],
   "source": []
  }
 ],
 "metadata": {
  "kernelspec": {
   "display_name": "COM728",
   "language": "python",
   "name": "com728"
  },
  "language_info": {
   "codemirror_mode": {
    "name": "ipython",
    "version": 3
   },
   "file_extension": ".py",
   "mimetype": "text/x-python",
   "name": "python",
   "nbconvert_exporter": "python",
   "pygments_lexer": "ipython3",
   "version": "3.11.5"
  }
 },
 "nbformat": 4,
 "nbformat_minor": 5
}
