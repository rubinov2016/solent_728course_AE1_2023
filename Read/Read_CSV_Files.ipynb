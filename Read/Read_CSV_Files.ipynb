{
 "cells": [
  {
   "cell_type": "markdown",
   "id": "32786d26",
   "metadata": {},
   "source": [
    "Activity: headings"
   ]
  },
  {
   "cell_type": "code",
   "execution_count": 4,
   "id": "7bd758ea",
   "metadata": {},
   "outputs": [
    {
     "name": "stdout",
     "output_type": "stream",
     "text": [
      "../songs.csv is now open for read\n",
      "Song,Artist,Category,Year\n",
      "\n"
     ]
    }
   ],
   "source": [
    "import csv\n",
    "file_name  = \"../songs.csv\"\n",
    "# Open a csv file \n",
    "with open(file_name,encoding='UTF-8') as csv_file:\n",
    "    print(f\"{file_name} is now open for read\")\n",
    "    csv_reader = csv.reader(csv_file)\n",
    "    headings = next(csv_file)\n",
    "    print(headings)\n",
    "    \n",
    "    #expected ['Song', 'Artist', 'Category', 'Year']"
   ]
  },
  {
   "cell_type": "markdown",
   "id": "95b32bf7",
   "metadata": {},
   "source": [
    "Activity: values"
   ]
  },
  {
   "cell_type": "code",
   "execution_count": 5,
   "id": "c1f08d03",
   "metadata": {},
   "outputs": [
    {
     "name": "stdout",
     "output_type": "stream",
     "text": [
      "../songs.csv is now open for read\n",
      "Song,Artist,Category,Year\n",
      "\n",
      "['Blinding Lights', 'The Weeknd', 'r&b', '2020']\n",
      "['Watermelon Sugar', 'Harry Styles', 'pop', '2019']\n",
      "['Mood', '24kGoldn', 'rap', '2021']\n",
      "['Someone You Loved', 'Lewis Capaldi', 'pop', '2019']\n",
      "['Perfect', 'Ed Sheeran', 'pop', '2017']\n",
      "['Believer', 'Imagine Dragons', 'rock', '2017']\n",
      "['Lovely', 'Billie Eilish', 'electropop', '2018']\n",
      "['Circles', 'Post Malone', 'rap', '2019']\n",
      "['Shape of You', 'Ed Sheeran', 'pop', '2017']\n",
      "['Memories', 'Maroon 5', 'pop', '2021']\n",
      "['Closer', 'The Chainsmokers', 'pop', '2016']\n",
      "['Bad Guy', 'Billie Eilish', 'electropop', '2019']\n",
      "[\"Say You Won't Let Go\", 'James Arthur', 'pop', '2016']\n"
     ]
    }
   ],
   "source": [
    "import csv\n",
    "file_name  = \"../songs.csv\"\n",
    "\n",
    "with open(file_name,encoding='UTF-8') as csv_file:\n",
    "    print(f\"{file_name} is now open for read\")\n",
    "    csv_reader = csv.reader(csv_file)\n",
    "    headings = next(csv_file)\n",
    "    print(headings)\n",
    "    for row in csv_reader: \n",
    "        print(row)"
   ]
  },
  {
   "cell_type": "markdown",
   "id": "5d225250",
   "metadata": {},
   "source": [
    "Activity: song_titles"
   ]
  },
  {
   "cell_type": "code",
   "execution_count": 17,
   "id": "731df0ee",
   "metadata": {},
   "outputs": [
    {
     "name": "stdout",
     "output_type": "stream",
     "text": [
      "../songs.csv is now open for read\n",
      "Song,Artist,Category,Year\n",
      "\n",
      "Blinding Lights\n",
      "Watermelon Sugar\n",
      "Mood\n",
      "Someone You Loved\n",
      "Perfect\n",
      "Believer\n",
      "Lovely\n",
      "Circles\n",
      "Shape of You\n",
      "Memories\n",
      "Closer\n",
      "Bad Guy\n",
      "Say You Won't Let Go\n"
     ]
    }
   ],
   "source": [
    "import csv\n",
    "file_name  = \"../songs.csv\"\n",
    "try:\n",
    "    with open(file_name,encoding='UTF-8') as csv_file:\n",
    "        print(f\"{file_name} is now open for read\")\n",
    "        csv_reader = csv.reader(csv_file)\n",
    "        headings = next(csv_file)\n",
    "        print(headings) ##\n",
    "        for row in csv_reader: \n",
    "            print(row[0])\n",
    "except IOError:\n",
    "    print(\"Cannot read file\")"
   ]
  },
  {
   "cell_type": "markdown",
   "id": "3cf5e864",
   "metadata": {},
   "source": [
    "Activity: formatted_values"
   ]
  },
  {
   "cell_type": "code",
   "execution_count": 23,
   "id": "f82d8c3b",
   "metadata": {},
   "outputs": [
    {
     "name": "stdout",
     "output_type": "stream",
     "text": [
      "../songs.csv is now open for read\n",
      "[2020] Blinding Lights (by The Weeknd)\n",
      "[2019] Watermelon Sugar (by Harry Styles)\n",
      "[2021] Mood (by 24kGoldn)\n",
      "[2019] Someone You Loved (by Lewis Capaldi)\n",
      "[2017] Perfect (by Ed Sheeran)\n",
      "[2017] Believer (by Imagine Dragons)\n",
      "[2018] Lovely (by Billie Eilish)\n",
      "[2019] Circles (by Post Malone)\n",
      "[2017] Shape of You (by Ed Sheeran)\n",
      "[2021] Memories (by Maroon 5)\n",
      "[2016] Closer (by The Chainsmokers)\n",
      "[2019] Bad Guy (by Billie Eilish)\n",
      "[2016] Say You Won't Let Go (by James Arthur)\n"
     ]
    }
   ],
   "source": [
    "import csv\n",
    "file_name  = \"../songs.csv\"\n",
    "try:\n",
    "    with open(file_name,encoding='UTF-8') as csv_file:\n",
    "        print(f\"{file_name} is now open for read\")\n",
    "        csv_reader = csv.reader(csv_file)\n",
    "        headings = next(csv_file)\n",
    "        for row in csv_reader: \n",
    "            print(f\"[{row[3]}] {row[0]} (by {row[1]})\")\n",
    "except IOError:\n",
    "    print(\"Cannot read file\")"
   ]
  },
  {
   "cell_type": "code",
   "execution_count": null,
   "id": "ec3d9581",
   "metadata": {},
   "outputs": [],
   "source": []
  }
 ],
 "metadata": {
  "kernelspec": {
   "display_name": "COM728",
   "language": "python",
   "name": "com728"
  },
  "language_info": {
   "codemirror_mode": {
    "name": "ipython",
    "version": 3
   },
   "file_extension": ".py",
   "mimetype": "text/x-python",
   "name": "python",
   "nbconvert_exporter": "python",
   "pygments_lexer": "ipython3",
   "version": "3.11.5"
  }
 },
 "nbformat": 4,
 "nbformat_minor": 5
}
