{
 "cells": [
  {
   "cell_type": "markdown",
   "id": "7b67e310",
   "metadata": {},
   "source": [
    "Activity: simple_list"
   ]
  },
  {
   "cell_type": "code",
   "execution_count": 4,
   "id": "761ccc9d",
   "metadata": {},
   "outputs": [
    {
     "name": "stdout",
     "output_type": "stream",
     "text": [
      "['Move Forward', 'Move Backward', 'Turn Left', 'Turn Right']\n"
     ]
    }
   ],
   "source": [
    "def directions():\n",
    "    directions =[]\n",
    "    directions.extend([\"Move Forward\", \"Move Backward\", \"Turn Left\", \"Turn Right\"])\n",
    "    return directions\n",
    "\n",
    "if __name__ == \"__main__\": \n",
    "    test = directions()\n",
    "    print (test)                          \n"
   ]
  },
  {
   "cell_type": "markdown",
   "id": "5fe2a965",
   "metadata": {},
   "source": [
    "Activity: index_list"
   ]
  },
  {
   "cell_type": "code",
   "execution_count": 8,
   "id": "7c8dd3dd",
   "metadata": {},
   "outputs": [
    {
     "name": "stdout",
     "output_type": "stream",
     "text": [
      "Moving...\n",
      "Move Forward for 10 steps\n",
      "Move Backward for 5 steps\n",
      "Move Left for 3 steps\n",
      "Move Right for 1 steps\n"
     ]
    }
   ],
   "source": [
    "def movements():\n",
    "    path = []\n",
    "    path.extend([\"Move Forward\", 10, \"Move Backward\", 5, \"Move Left\", 3, \"Move Right\", 1])\n",
    "    return path\n",
    "\n",
    "def run():\n",
    "    print (\"Moving...\")\n",
    "    data_set = movements()\n",
    "    index = 0\n",
    "    while index < len(data_set):\n",
    "        move = data_set[index]\n",
    "        step = data_set[index+1]\n",
    "        print(f\"{move} for {step} steps\")\n",
    "        index += 2 \n",
    "\n",
    "if __name__ == \"__main__\": \n",
    "    run()\n",
    "    \n",
    "\n",
    "    \n"
   ]
  },
  {
   "cell_type": "markdown",
   "id": "19ccb92b",
   "metadata": {},
   "source": [
    "Activity: populate_list"
   ]
  },
  {
   "cell_type": "code",
   "execution_count": 14,
   "id": "2d151bc2",
   "metadata": {},
   "outputs": [
    {
     "name": "stdout",
     "output_type": "stream",
     "text": [
      "Working out escape route...\n",
      "Please select a direction:\n",
      "0: Move Forward\n",
      "1: Move Backward\n",
      "2: Turn Left\n",
      "3: Turn Right\n",
      "0\n",
      "Please select a direction:\n",
      "0: Move Forward\n",
      "1: Move Backward\n",
      "2: Turn Left\n",
      "3: Turn Right\n",
      "2\n",
      "Please select a direction:\n",
      "0: Move Forward\n",
      "1: Move Backward\n",
      "2: Turn Left\n",
      "3: Turn Right\n",
      "3\n",
      "['Move Forward', 'Turn Left', 'Turn Right']\n"
     ]
    }
   ],
   "source": [
    "def directions():\n",
    "    directions =[]\n",
    "    directions.extend([\"Move Forward\", \"Move Backward\", \"Turn Left\", \"Turn Right\"])\n",
    "    return directions\n",
    "\n",
    "def menu ():\n",
    "    print (\"Please select a direction:\")\n",
    "    data_set = directions()\n",
    "    index = 0\n",
    "    while index < len(data_set):\n",
    "        print(f\"{index}: {data_set[index]}\")\n",
    "        index += 1 \n",
    "    choice = int(input (\"\"))\n",
    "    return choice\n",
    "\n",
    "def run ():\n",
    "    route = []\n",
    "    data_set = directions()\n",
    "    print (\"Working out escape route...\")\n",
    "    index = 0\n",
    "    while index < 3:\n",
    "        choice = menu()\n",
    "        route.append(data_set[choice])\n",
    "        index += 1\n",
    "    print (route)\n",
    "        \n",
    "if __name__ == \"__main__\": \n",
    "    run()"
   ]
  },
  {
   "cell_type": "markdown",
   "id": "29bc9f4f",
   "metadata": {},
   "source": [
    "### "
   ]
  }
 ],
 "metadata": {
  "kernelspec": {
   "display_name": "Python 3 (ipykernel)",
   "language": "python",
   "name": "python3"
  },
  "language_info": {
   "codemirror_mode": {
    "name": "ipython",
    "version": 3
   },
   "file_extension": ".py",
   "mimetype": "text/x-python",
   "name": "python",
   "nbconvert_exporter": "python",
   "pygments_lexer": "ipython3",
   "version": "3.11.5"
  }
 },
 "nbformat": 4,
 "nbformat_minor": 5
}
