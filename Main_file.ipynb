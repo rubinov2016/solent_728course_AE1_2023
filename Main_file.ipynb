{
 "cells": [
  {
   "cell_type": "markdown",
   "id": "2a827ccb",
   "metadata": {},
   "source": [
    "Part A:\n",
    "- Retrieve data from a CSV file\n",
    "- Identify the top 5 regions \n",
    "  "
   ]
  },
  {
   "cell_type": "code",
   "execution_count": null,
   "id": "87f19216",
   "metadata": {
    "ExecuteTime": {
     "end_time": "2023-11-18T23:51:47.700007900Z",
     "start_time": "2023-11-18T23:51:43.300942100Z"
    }
   },
   "outputs": [
    {
     "name": "stdout",
     "output_type": "stream",
     "text": [
      "Please provide the path to the CSV file (device_features.csv by default):\n",
      "File is found: device_features.csv \n",
      "Selected file path: device_features.csv\n",
      "\n",
      "Press 0 to Retrieve devices by oemrid\n",
      "Press 1 to Retrieve devices by code name\n",
      "Press 2 to Retrieve devices by RAM capacity\n",
      "Press 3 to Retrieve devices by weight range\n",
      "Press 4 to Identify the top 5 regions\n",
      "Press 5 to Analyse the average price of devices\n",
      "Press 6 to Analyse the average mass for each manufacturer\n",
      "Press 7 to Custom analytics !!!!\n",
      "Press 8 to Chart for proportion of RAM types\n",
      "Press 9 to Chart for each USB connector type\n",
      "Press 10 to The monthly average price trends\n",
      "Press 11 to Custom visualization using matplotlib !!!\n",
      "Press 12 to Exit the program\n",
      "Press from 0 to 12 (exit): 5\n",
      "\n",
      "You choose: Analyse the average price of devices\n",
      "Release date should be in DD-MM-YY format as 28-03-22\n",
      "Enter brand:Apple\n",
      "Average prices for each band and currency:\n",
      "brand  price_currency\n",
      "Apple  AUD                 1399.00\n",
      "       CAD                 1545.32\n",
      "       CNY                 8921.37\n",
      "       EUR                 1494.54\n",
      "       GBP                  810.48\n",
      "       JPY               127930.43\n",
      "       KZT               810704.29\n",
      "       MXN                31499.00\n",
      "       RUB               111418.57\n",
      "       TWD                16300.00\n",
      "       USD                  986.19\n",
      "Name: price, dtype: float64\n",
      "\n",
      "Press 0 to Retrieve devices by oemrid\n",
      "Press 1 to Retrieve devices by code name\n",
      "Press 2 to Retrieve devices by RAM capacity\n",
      "Press 3 to Retrieve devices by weight range\n",
      "Press 4 to Identify the top 5 regions\n",
      "Press 5 to Analyse the average price of devices\n",
      "Press 6 to Analyse the average mass for each manufacturer\n",
      "Press 7 to Custom analytics !!!!\n",
      "Press 8 to Chart for proportion of RAM types\n",
      "Press 9 to Chart for each USB connector type\n",
      "Press 10 to The monthly average price trends\n",
      "Press 11 to Custom visualization using matplotlib !!!\n",
      "Press 12 to Exit the program\n"
     ]
    }
   ],
   "source": [
    "import os.path\n",
    "import csv\n",
    "\n",
    "\n",
    "#Action Menu. The latest option must be Exit\n",
    "choice_list =[\"Retrieve devices by oemrid\",\n",
    "              \"Retrieve devices by code name\",\n",
    "              \"Retrieve devices by RAM capacity\",\n",
    "              \"Retrieve devices by weight range\",\n",
    "              \"Identify the top 5 regions\",\n",
    "              \"Analyse the average price of devices\",              \n",
    "              \"Analyse the average mass for each manufacturer\",\n",
    "              \"Custom analytics !!!!\",\n",
    "              \"Chart for proportion of RAM types\",\n",
    "              \"Chart for each USB connector type\",\n",
    "              \"The monthly average price trends\",\n",
    "              \"Custom visualization using matplotlib !!!\",\n",
    "              \"Exit the program\"]     \n",
    "\n",
    "# Retrieve map table, what and how to find.\n",
    "# The first field - selection criteria\n",
    "# The second - list of fields to show\n",
    "# The third - flag to select the exact value (FALSE) or range of values (TRUE)\n",
    "retrieve_condition = {0:['oem_id',\n",
    "                         ['model', 'manufacturer', 'weight_gram', 'price', 'price_currency'],\n",
    "                         False],\n",
    "                      1:['codename',\n",
    "                         ['brand','model','ram_capacity','market_regions','info_added_date'],\n",
    "                         False],\n",
    "                      2:['ram_capacity',\n",
    "                         ['oem_id','released_date','announced_date','dimensions','device_category'],\n",
    "                         False],\n",
    "                      #Can work with range of values \n",
    "                      3:['weight_gram',\n",
    "                         ['hardware_designer','display_diagonal','sim_card_slot','weight_gram'], \n",
    "                         True]}   \n",
    "    \n",
    "                   \n",
    "if __name__ == \"__main__\":\n",
    "    import menu_module as mn\n",
    "    import retrieve_module as rt\n",
    "    import analytics_module as an\n",
    "    #Input pathname\n",
    "    max_attempts = 5\n",
    "    path = mn.input_file_path(\"device_features.csv\")\n",
    "    print(\"Selected file path:\", path)\n",
    "    #Input what to find\n",
    "    choice = 0\n",
    "    while choice in range(0, len(choice_list) - 1): \n",
    "        choice = mn.input_choice(choice_list)\n",
    "        if choice in range(0,3):\n",
    "            # It is more efficient to send one element instead of the whole dataset\n",
    "            rt.retrieve(path, choice, retrieve_condition[choice])\n",
    "        elif choice in range(4,12):\n",
    "            an.analytics_visualize(path, choice)            \n",
    "    print(\"Bye\") \n",
    "        \n",
    "    "
   ]
  },
  {
   "cell_type": "code",
   "execution_count": 2,
   "id": "984ecab6",
   "metadata": {
    "ExecuteTime": {
     "end_time": "2023-11-18T23:51:47.700681900Z",
     "start_time": "2023-11-18T23:51:47.685606800Z"
    }
   },
   "outputs": [],
   "source": []
  }
 ],
 "metadata": {
  "kernelspec": {
   "display_name": "Python 3 (ipykernel)",
   "language": "python",
   "name": "python3"
  },
  "language_info": {
   "codemirror_mode": {
    "name": "ipython",
    "version": 3
   },
   "file_extension": ".py",
   "mimetype": "text/x-python",
   "name": "python",
   "nbconvert_exporter": "python",
   "pygments_lexer": "ipython3",
   "version": "3.11.5"
  }
 },
 "nbformat": 4,
 "nbformat_minor": 5
}
