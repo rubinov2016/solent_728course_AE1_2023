{
 "cells": [
  {
   "cell_type": "markdown",
   "id": "2a827ccb",
   "metadata": {},
   "source": [
    "What the program does:\n",
    "    Retrieve data from a CSV file\n",
    "    Identify the top 5 regions \n",
    "    Analyse the average price of devices \n",
    "    Analyse the average mass for each manufacturer\n",
    "    Visualise the proportion of RAM types\n",
    "    Visually compare the number of devices for each USB connector type\n",
    "    Separate charts illustrating the monthly average price trends    "
   ]
  },
  {
   "cell_type": "code",
   "execution_count": 1,
   "id": "87f19216",
   "metadata": {},
   "outputs": [
    {
     "name": "stdout",
     "output_type": "stream",
     "text": [
      "Please provide the path to the CSV file:\n",
      "File is found: device_features.csv \n"
     ]
    }
   ],
   "source": [
    "import os.path\n",
    "# Query the file path\n",
    "i = 1\n",
    "max_attempts = 5 \n",
    "file_found = False\n",
    "while i <= max_attempts and file_found == False:\n",
    " path = input(\"Please provide the path to the CSV file:\")\n",
    " #If path is empty then we use current folder and file \"device_features.csv\"\n",
    " if path == \"\":\n",
    "    path = \"device_features.csv\"    \n",
    " if os.path.isfile(path):\n",
    "    print (f\"File is found: {path} \")\n",
    "    file_found = True\n",
    " else:\n",
    "    print (f\"There is no file: {path}. You have {max_attempts-i} attempts\")\n",
    "    i +=1\n",
    "\n",
    "#Load file"
   ]
  },
  {
   "cell_type": "code",
   "execution_count": null,
   "id": "d377b2cc",
   "metadata": {},
   "outputs": [],
   "source": []
  },
  {
   "cell_type": "code",
   "execution_count": null,
   "id": "06f8d965",
   "metadata": {},
   "outputs": [],
   "source": []
  }
 ],
 "metadata": {
  "kernelspec": {
   "display_name": "Python 3 (ipykernel)",
   "language": "python",
   "name": "python3"
  },
  "language_info": {
   "codemirror_mode": {
    "name": "ipython",
    "version": 3
   },
   "file_extension": ".py",
   "mimetype": "text/x-python",
   "name": "python",
   "nbconvert_exporter": "python",
   "pygments_lexer": "ipython3",
   "version": "3.11.5"
  }
 },
 "nbformat": 4,
 "nbformat_minor": 5
}
