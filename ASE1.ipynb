{
 "cells": [
  {
   "cell_type": "markdown",
   "id": "2a827ccb",
   "metadata": {},
   "source": [
    "What the program does:\n",
    "    Retrieve data from a CSV file\n",
    "    Identify the top 5 regions \n",
    "    Analyse the average price of devices \n",
    "    Analyse the average mass for each manufacturer\n",
    "    Visualise the proportion of RAM types\n",
    "    Visually compare the number of devices for each USB connector type\n",
    "    Separate charts illustrating the monthly average price trends    "
   ]
  },
  {
   "cell_type": "code",
   "execution_count": 23,
   "id": "87f19216",
   "metadata": {},
   "outputs": [
    {
     "name": "stdout",
     "output_type": "stream",
     "text": [
      "Please provide the path to the CSV file:\n",
      "File is found: device_features.csv \n",
      "\n",
      "Enter what do you want to do\n",
      "Press 0 to retrieve the model name, manufacturer, weight, price, and price unit for the device(s) based on the oemrid.\n",
      "Press 1 to retrieve the brand, model name, RAM capacity, market regions, and the date when the information was added for device(s) associated with a specified code name.\n",
      "Press 2 to retrieve the oem_id, release date, announcement date, dimensions, and device # category of the device(s) based on a specified RAM capacity.\n",
      "Press 3 to retrieve information from your chosen columns and apply a specific condition that relates to an individual device. Please select at least three columns and one condition that differs from previous requirements\n",
      "Press from 1 to 4: \n"
     ]
    },
    {
     "ename": "ValueError",
     "evalue": "invalid literal for int() with base 10: ''",
     "output_type": "error",
     "traceback": [
      "\u001b[1;31m---------------------------------------------------------------------------\u001b[0m",
      "\u001b[1;31mValueError\u001b[0m                                Traceback (most recent call last)",
      "Cell \u001b[1;32mIn[23], line 41\u001b[0m\n\u001b[0;32m     38\u001b[0m \u001b[38;5;28;01mfor\u001b[39;00m count, action_list \u001b[38;5;129;01min\u001b[39;00m \u001b[38;5;28menumerate\u001b[39m(action_list):\n\u001b[0;32m     39\u001b[0m   \u001b[38;5;28mprint\u001b[39m (\u001b[38;5;124mf\u001b[39m\u001b[38;5;124m\"\u001b[39m\u001b[38;5;124mPress \u001b[39m\u001b[38;5;132;01m{\u001b[39;00mcount\u001b[38;5;132;01m}\u001b[39;00m\u001b[38;5;124m to \u001b[39m\u001b[38;5;132;01m{\u001b[39;00maction_list\u001b[38;5;132;01m}\u001b[39;00m\u001b[38;5;124m\"\u001b[39m)\n\u001b[1;32m---> 41\u001b[0m choice \u001b[38;5;241m=\u001b[39m \u001b[38;5;28mint\u001b[39m(\u001b[38;5;28minput\u001b[39m(\u001b[38;5;124m\"\u001b[39m\u001b[38;5;124mPress from 1 to 4: \u001b[39m\u001b[38;5;124m\"\u001b[39m))\n\u001b[0;32m     43\u001b[0m \u001b[38;5;28;01mif\u001b[39;00m choice \u001b[38;5;241m>\u001b[39m\u001b[38;5;241m=\u001b[39m\u001b[38;5;241m0\u001b[39m \u001b[38;5;129;01mand\u001b[39;00m choice \u001b[38;5;241m<\u001b[39m\u001b[38;5;241m=\u001b[39m \u001b[38;5;241m3\u001b[39m:\n\u001b[0;32m     44\u001b[0m     \u001b[38;5;28mprint\u001b[39m(\u001b[38;5;124m\"\u001b[39m\u001b[38;5;124mYou choose\u001b[39m\u001b[38;5;124m\"\u001b[39m)\n",
      "\u001b[1;31mValueError\u001b[0m: invalid literal for int() with base 10: ''"
     ]
    }
   ],
   "source": [
    "import os.path\n",
    "import csv\n",
    "# Query the file path\n",
    "i = 1\n",
    "max_attempts = 5 \n",
    "file_found = False\n",
    "while i <= max_attempts and file_found == False:\n",
    " path = input(\"Please provide the path to the CSV file:\")\n",
    " #If path is empty then we use current folder and file \"device_features.csv\"\n",
    " if path == \"\":\n",
    "    path = \"device_features.csv\"    \n",
    " if os.path.isfile(path):\n",
    "    print (f\"File is found: {path} \")\n",
    "    file_found = True\n",
    " else:\n",
    "    print (f\"There is no file: {path}. You have {max_attempts-i} attempts\")\n",
    "    i +=1\n",
    "\n",
    "#Load file\n",
    "with open(path, newline='') as csvfile:\n",
    "    reader = csv.DictReader(csvfile)\n",
    "#It might be an issue with\n",
    "#the delimiters \n",
    "#the first row\n",
    "\n",
    "action_list =[]\n",
    "action_list.append(\"retrieve the model name, manufacturer, weight, price, and price unit for the device(s) based on the oemrid.\")\n",
    "action_list.append(\"retrieve the brand, model name, RAM capacity, market regions, and the date when the information was added for device(s) associated with a specified code name.\")\n",
    "action_list.append(\"retrieve the oem_id, release date, announcement date, dimensions, and device # category of the device(s) based on a specified RAM capacity.\")\n",
    "action_list.append(\"retrieve information from your chosen columns and apply a specific condition that relates to an individual device. Please select at least three columns and one condition that differs from previous requirements\")\n",
    "# print(action_list[0])\n",
    "# print(action_list[1])\n",
    "# print(action_list[2])\n",
    "# print(action_list[3])\n",
    "\n",
    "print()\n",
    "print(\"Enter what do you want to do\")\n",
    "for count, action_list in enumerate(action_list):\n",
    "  print (f\"Press {count} to {action_list}\")\n",
    "                \n",
    "choice = int(input(\"Press from 1 to 4: \"))\n",
    "\n",
    "if choice >=0 and choice <= 3:\n",
    "    print(\"You choose\")\n",
    "    print(action_list[choice])\n",
    "\n",
    "#     for row in reader:\n",
    "#         print(row['oem_id'], row['brand'])"
   ]
  },
  {
   "cell_type": "code",
   "execution_count": null,
   "id": "666208bc",
   "metadata": {},
   "outputs": [],
   "source": []
  }
 ],
 "metadata": {
  "kernelspec": {
   "display_name": "Python 3 (ipykernel)",
   "language": "python",
   "name": "python3"
  },
  "language_info": {
   "codemirror_mode": {
    "name": "ipython",
    "version": 3
   },
   "file_extension": ".py",
   "mimetype": "text/x-python",
   "name": "python",
   "nbconvert_exporter": "python",
   "pygments_lexer": "ipython3",
   "version": "3.11.5"
  }
 },
 "nbformat": 4,
 "nbformat_minor": 5
}
