{
 "cells": [
  {
   "cell_type": "markdown",
   "source": [
    "Activity: Simple_function"
   ],
   "metadata": {
    "collapsed": false
   },
   "id": "6ad701c952b8c02f"
  },
  {
   "cell_type": "code",
   "execution_count": 2,
   "outputs": [
    {
     "name": "stdout",
     "output_type": "stream",
     "text": [
      "That was a loud rumble !\n"
     ]
    }
   ],
   "source": [
    "def listen():\n",
    "    sound = input(\"Enter sound: \")\n",
    "    print(f\"That was a loud {sound} !\")\n",
    "    \n",
    "if __name__ == \"__main__\": \n",
    "    listen()"
   ],
   "metadata": {
    "collapsed": false,
    "ExecuteTime": {
     "end_time": "2023-11-03T20:00:22.519286100Z",
     "start_time": "2023-11-03T20:00:10.741407500Z"
    }
   },
   "id": "8a98d1dde0be48b0"
  },
  {
   "cell_type": "markdown",
   "source": [
    "Activity: function_with_condition"
   ],
   "metadata": {
    "collapsed": false
   },
   "id": "7d4c110cf1cb6bad"
  },
  {
   "cell_type": "code",
   "execution_count": 3,
   "outputs": [
    {
     "name": "stdout",
     "output_type": "stream",
     "text": [
      "We will be fine.\n"
     ]
    }
   ],
   "source": [
    "def identify():\n",
    "    watch = input(\"Enter what you see: \")\n",
    "    if watch == \"a large boulder\":\n",
    "        print(\"It's time to run!\")\n",
    "    else:\n",
    "        print(\"We will be fine.\")\n",
    "if __name__ == \"__main__\": \n",
    "    identify()"
   ],
   "metadata": {
    "collapsed": false,
    "ExecuteTime": {
     "end_time": "2023-11-03T20:03:41.359018100Z",
     "start_time": "2023-11-03T20:03:36.666016400Z"
    }
   },
   "id": "953dc31dd926bb4f"
  },
  {
   "cell_type": "markdown",
   "source": [
    "Activity: function_with_parameter"
   ],
   "metadata": {
    "collapsed": false
   },
   "id": "dc3f7ba3ad4aa57e"
  },
  {
   "cell_type": "code",
   "execution_count": 4,
   "outputs": [
    {
     "name": "stdout",
     "output_type": "stream",
     "text": [
      "We cannot escape that way! The boulder is too big!\n",
      "We cannot escape that way! The boulder is moving too fast!\n",
      "That might just work! Let's go deeper!\n"
     ]
    }
   ],
   "source": [
    "def escape(plan):\n",
    "    if plan == \"jumping over\":\n",
    "        print(\"We cannot escape that way! The boulder is too big!\")\n",
    "    elif plan == \"running around\":\n",
    "        print(\"We cannot escape that way! The boulder is moving too fast!\")\n",
    "    elif plan == \"going deeper\":\n",
    "        print(\"That might just work! Let's go deeper!\")\n",
    "    else:\n",
    "        print(\"We cannot escape that way! The boulder is in the way!\")\n",
    "        \n",
    "if __name__ == \"__main__\": \n",
    "    # Calls to the function\n",
    "    escape(\"jumping over\")\n",
    "    escape(\"running around\")\n",
    "    escape(\"going deeper\")    \n",
    "        "
   ],
   "metadata": {
    "collapsed": false,
    "ExecuteTime": {
     "end_time": "2023-11-03T20:08:51.794037Z",
     "start_time": "2023-11-03T20:08:51.781195900Z"
    }
   },
   "id": "98e20fcbdb036d82"
  },
  {
   "cell_type": "markdown",
   "source": [
    "Activity: return_values"
   ],
   "metadata": {
    "collapsed": false
   },
   "id": "475d22318ad1c719"
  },
  {
   "cell_type": "code",
   "execution_count": 6,
   "outputs": [
    {
     "name": "stdout",
     "output_type": "stream",
     "text": [
      "The sum of Beep's and Bop's weight is 32\n"
     ]
    }
   ],
   "source": [
    "def sum_weights(bob_weight, beep_weight):\n",
    "    return bob_weight + beep_weight\n",
    "\n",
    "def calc_avg_weight(bob_weight, beep_weight):\n",
    "    return sum_weights(bob_weight, beep_weight)/2\n",
    "\n",
    "def run():\n",
    "    bob_weight = int(input(\"Enter Bob's weight\"))\n",
    "    beep_weight = int(input(\"Enter Beep's weight\"))\n",
    "    prompt = input(\"Enter sum or average\")\n",
    "    if prompt == \"sum\":\n",
    "        print(f\"The sum of Beep's and Bop's weight is {sum_weights(bob_weight, beep_weight)}\")\n",
    "    else:\n",
    "        print(f\"The average of Beep's and Bop's weight is {calc_avg_weight(bob_weight, beep_weight)}\")\n",
    "     \n",
    "if __name__ == \"__main__\": \n",
    "    run()\n",
    "        "
   ],
   "metadata": {
    "collapsed": false,
    "ExecuteTime": {
     "end_time": "2023-11-03T20:26:24.347791200Z",
     "start_time": "2023-11-03T20:26:17.037129100Z"
    }
   },
   "id": "23a351fb6af9b6e3"
  },
  {
   "cell_type": "markdown",
   "source": [],
   "metadata": {
    "collapsed": false
   },
   "id": "757db69956e90722"
  }
 ],
 "metadata": {
  "kernelspec": {
   "display_name": "Python 3",
   "language": "python",
   "name": "python3"
  },
  "language_info": {
   "codemirror_mode": {
    "name": "ipython",
    "version": 2
   },
   "file_extension": ".py",
   "mimetype": "text/x-python",
   "name": "python",
   "nbconvert_exporter": "python",
   "pygments_lexer": "ipython2",
   "version": "2.7.6"
  }
 },
 "nbformat": 4,
 "nbformat_minor": 5
}
